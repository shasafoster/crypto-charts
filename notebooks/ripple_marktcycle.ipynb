{
 "cells": [
  {
   "cell_type": "code",
   "execution_count": 1,
   "metadata": {
    "collapsed": true
   },
   "outputs": [],
   "source": [
    "# Largely based off this example\n",
    "# http://nbviewer.jupyter.org/github/kyper-data/python-highcharts/blob/master/examples/ipynb/highstock/flags-general-2.ipynb"
   ]
  },
  {
   "cell_type": "code",
   "execution_count": 2,
   "metadata": {
    "collapsed": true
   },
   "outputs": [],
   "source": [
    "%reload_ext autoreload\n",
    "%autoreload 2\n",
    "\n",
    "import os\n",
    "from datetime import datetime\n",
    "import numpy as np\n",
    "from IPython.display import display, display_pretty, Javascript, HTML\n",
    "from highcharts import Highstock\n",
    "import matplotlib.pyplot as plt\n",
    "from lxml import etree\n",
    "import urllib2"
   ]
  },
  {
   "cell_type": "code",
   "execution_count": 16,
   "metadata": {
    "collapsed": true
   },
   "outputs": [],
   "source": [
    "x_range = '20170307&end=' + datetime.now().strftime(\"%Y%m%d\")"
   ]
  },
  {
   "cell_type": "code",
   "execution_count": 17,
   "metadata": {
    "collapsed": true
   },
   "outputs": [],
   "source": [
    "# Extract historical www.coinmarketcap.com data for XRP\n",
    "ripple_url = r'https://coinmarketcap.com/currencies/ripple/historical-data/?start=' + x_range\n",
    "response = urllib2.urlopen(ripple_url)\n",
    "html_parser = etree.HTMLParser()\n",
    "tree = etree.parse(response, html_parser)\n",
    "\n",
    "# Select the data using xpath from the html\n",
    "header = tree.xpath(\n",
    "    '//div[@id=\"historical-data\"]/div[@class=\"tab-header\"]/div[@class=\"table-responsive\"]/table/thead/tr/th/text()')\n",
    "rows = tree.xpath(\n",
    "        '//div[@id=\"historical-data\"]/div[@class=\"tab-header\"]/div[@class=\"table-responsive\"]/table/tbody/tr')\n",
    "# Create table from list of row selector objects\n",
    "table = list(reversed([row.xpath('./td/text()') for row in rows])) # table is a list of lists\n",
    "date = [datetime.strptime(row[0], '%b %d, %Y') for row in table]\n",
    "xrp_open = [float(row[1]) for row in table]\n",
    "xrp_high = [float(row[2]) for row in table]\n",
    "xrp_low = [float(row[3]) for row in table]\n",
    "xrp_close = [float(row[4]) for row in table]\n",
    "xrp_volume = [int(row[5].replace('-','0').replace(',','')) for row in table]\n",
    "xrp_marketcap = [int(row[6].replace(',','')) for row in table]"
   ]
  },
  {
   "cell_type": "code",
   "execution_count": 18,
   "metadata": {},
   "outputs": [
    {
     "name": "stdout",
     "output_type": "stream",
     "text": [
      "[0.006534, 0.006509, 0.006498, 0.006227, 0.006238, 0.006255, 0.006385, 0.006381, 0.006314, 0.006394]\n"
     ]
    }
   ],
   "source": [
    "print xrp_close[:10]"
   ]
  },
  {
   "cell_type": "code",
   "execution_count": 19,
   "metadata": {
    "collapsed": true
   },
   "outputs": [],
   "source": [
    "bitcoin_url = r'https://coinmarketcap.com/currencies/bitcoin/historical-data/?start=' + x_range\n",
    "response = urllib2.urlopen(bitcoin_url)\n",
    "html_parser = etree.HTMLParser()\n",
    "tree = etree.parse(response, html_parser)\n",
    "rows = tree.xpath(\n",
    "        '//div[@id=\"historical-data\"]/div[@class=\"tab-header\"]/div[@class=\"table-responsive\"]/table/tbody/tr')\n",
    "\n",
    "# Create table from list of row selector objects\n",
    "table = list(reversed([row.xpath('./td/text()') for row in rows])) # table is a list of lists\n",
    "btc_close = [float(row[4]) for row in table]"
   ]
  },
  {
   "cell_type": "code",
   "execution_count": 20,
   "metadata": {},
   "outputs": [
    {
     "name": "stdout",
     "output_type": "stream",
     "text": [
      "[1223.54, 1150.0, 1188.49, 1116.72, 1175.83, 1221.38, 1231.92, 1240.0, 1249.61, 1187.81]\n"
     ]
    }
   ],
   "source": [
    "print btc_close[:10]"
   ]
  },
  {
   "cell_type": "code",
   "execution_count": 21,
   "metadata": {},
   "outputs": [],
   "source": [
    "xrp_btc_price = [round(xrp_close[i] * 100000000 / btc_close[i],0) for i in range(len(btc_close))]"
   ]
  },
  {
   "cell_type": "code",
   "execution_count": 22,
   "metadata": {
    "collapsed": true
   },
   "outputs": [],
   "source": [
    "price_data = [list(tuble) for tuble in zip(date, xrp_btc_price)]"
   ]
  },
  {
   "cell_type": "code",
   "execution_count": 54,
   "metadata": {},
   "outputs": [
    {
     "data": {
      "text/html": [
       "<iframe style=\"border:0;outline:none;overflow:hidden\" srcdoc=\"&lt;!DOCTYPE html&gt; &lt;html lang=&quot;en&quot;&gt; &lt;head&gt; &lt;meta charset=&quot;utf-8&quot; /&gt; &lt;link href=&quot;https://www.highcharts.com/highslide/highslide.css&quot; rel=&quot;stylesheet&quot; /&gt; &lt;script type=&quot;text/javascript&quot; src=&quot;https://ajax.googleapis.com/ajax/libs/jquery/1.9.1/jquery.min.js&quot;&gt;&lt;/script&gt; &lt;script type=&quot;text/javascript&quot; src=&quot;https://code.highcharts.com/stock/highstock.js&quot;&gt;&lt;/script&gt; &lt;script type=&quot;text/javascript&quot; src=&quot;https://code.highcharts.com/stock/modules/exporting.js&quot;&gt;&lt;/script&gt; &lt;script type=&quot;text/javascript&quot; src=&quot;https://code.highcharts.com/highcharts-more.js&quot;&gt;&lt;/script&gt; &lt;/head&gt; &lt;body style=&quot;margin:0;padding:0&quot;&gt; &lt;div id=&quot;container&quot; style=&quot;height:650px;&quot;&gt;Loading....&lt;/div&gt; &lt;script&gt; $(function(){ Highcharts.setOptions({&quot;lang&quot;: {}, &quot;global&quot;: {}}); var option = {&quot;loading&quot;: {}, &quot;subtitle&quot;: {}, &quot;title&quot;: {&quot;text&quot;: &quot;Psychology of Ripple (XRP) market cycle... How to get rekt&quot;}, &quot;series&quot;: {}, &quot;labels&quot;: {}, &quot;yAxis&quot;: {&quot;title&quot;: {&quot;text&quot;: &quot;Price (BTC - Satoshi&#x27;s)&quot;}}, &quot;chart&quot;: {&quot;renderTo&quot;: &quot;container&quot;, &quot;height&quot;: 650}, &quot;tooltip&quot;: {&quot;shared&quot;: true, &quot;style&quot;: {&quot;width&quot;: &quot;200px&quot;}, &quot;valueDecimals&quot;: 0}, &quot;plotOptions&quot;: {}, &quot;credits&quot;: {&quot;enabled&quot;: false}, &quot;colors&quot;: {}, &quot;scrollbar&quot;: {}, &quot;xAxis&quot;: {}, &quot;exporting&quot;: {}, &quot;rangeSelector&quot;: {}, &quot;navigator&quot;: {}, &quot;navigation&quot;: {}, &quot;legend&quot;: {}}; var data = [{&quot;name&quot;: &quot;Price (Sats)&quot;, &quot;type&quot;: &quot;line&quot;, &quot;data&quot;: [[Date.UTC(2017,2,7,0,0,0,0), 534.0], [Date.UTC(2017,2,8,0,0,0,0), 566.0], [Date.UTC(2017,2,9,0,0,0,0), 547.0], [Date.UTC(2017,2,10,0,0,0,0), 558.0], [Date.UTC(2017,2,11,0,0,0,0), 531.0], [Date.UTC(2017,2,12,0,0,0,0), 512.0], [Date.UTC(2017,2,13,0,0,0,0), 518.0], [Date.UTC(2017,2,14,0,0,0,0), 515.0], [Date.UTC(2017,2,15,0,0,0,0), 505.0], [Date.UTC(2017,2,16,0,0,0,0), 538.0], [Date.UTC(2017,2,17,0,0,0,0), 556.0], [Date.UTC(2017,2,18,0,0,0,0), 689.0], [Date.UTC(2017,2,19,0,0,0,0), 667.0], [Date.UTC(2017,2,20,0,0,0,0), 662.0], [Date.UTC(2017,2,21,0,0,0,0), 617.0], [Date.UTC(2017,2,22,0,0,0,0), 696.0], [Date.UTC(2017,2,23,0,0,0,0), 1019.0], [Date.UTC(2017,2,24,0,0,0,0), 1122.0], [Date.UTC(2017,2,25,0,0,0,0), 937.0], [Date.UTC(2017,2,26,0,0,0,0), 987.0], [Date.UTC(2017,2,27,0,0,0,0), 918.0], [Date.UTC(2017,2,28,0,0,0,0), 909.0], [Date.UTC(2017,2,29,0,0,0,0), 971.0], [Date.UTC(2017,2,30,0,0,0,0), 1293.0], [Date.UTC(2017,2,31,0,0,0,0), 1949.0], [Date.UTC(2017,3,1,0,0,0,0), 2026.0], [Date.UTC(2017,3,2,0,0,0,0), 5549.0], [Date.UTC(2017,3,3,0,0,0,0), 2887.0], [Date.UTC(2017,3,4,0,0,0,0), 3305.0], [Date.UTC(2017,3,5,0,0,0,0), 3160.0], [Date.UTC(2017,3,6,0,0,0,0), 2762.0], [Date.UTC(2017,3,7,0,0,0,0), 3086.0], [Date.UTC(2017,3,8,0,0,0,0), 3049.0], [Date.UTC(2017,3,9,0,0,0,0), 2864.0], [Date.UTC(2017,3,10,0,0,0,0), 2830.0], [Date.UTC(2017,3,11,0,0,0,0), 2735.0], [Date.UTC(2017,3,12,0,0,0,0), 2860.0], [Date.UTC(2017,3,13,0,0,0,0), 2941.0], [Date.UTC(2017,3,14,0,0,0,0), 2893.0], [Date.UTC(2017,3,15,0,0,0,0), 2896.0], [Date.UTC(2017,3,16,0,0,0,0), 2829.0], [Date.UTC(2017,3,17,0,0,0,0), 2819.0], [Date.UTC(2017,3,18,0,0,0,0), 2739.0], [Date.UTC(2017,3,19,0,0,0,0), 2493.0], [Date.UTC(2017,3,20,0,0,0,0), 2440.0], [Date.UTC(2017,3,21,0,0,0,0), 2682.0], [Date.UTC(2017,3,22,0,0,0,0), 2579.0], [Date.UTC(2017,3,23,0,0,0,0), 2591.0], [Date.UTC(2017,3,24,0,0,0,0), 2510.0], [Date.UTC(2017,3,25,0,0,0,0), 2556.0], [Date.UTC(2017,3,26,0,0,0,0), 2560.0], [Date.UTC(2017,3,27,0,0,0,0), 2642.0], [Date.UTC(2017,3,28,0,0,0,0), 3378.0], [Date.UTC(2017,3,29,0,0,0,0), 4000.0], [Date.UTC(2017,3,30,0,0,0,0), 3829.0], [Date.UTC(2017,4,1,0,0,0,0), 3877.0], [Date.UTC(2017,4,2,0,0,0,0), 3711.0], [Date.UTC(2017,4,3,0,0,0,0), 4059.0], [Date.UTC(2017,4,4,0,0,0,0), 5132.0], [Date.UTC(2017,4,5,0,0,0,0), 6014.0], [Date.UTC(2017,4,6,0,0,0,0), 6447.0], [Date.UTC(2017,4,7,0,0,0,0), 8878.0], [Date.UTC(2017,4,8,0,0,0,0), 11502.0], [Date.UTC(2017,4,9,0,0,0,0), 9119.0], [Date.UTC(2017,4,10,0,0,0,0), 10411.0], [Date.UTC(2017,4,11,0,0,0,0), 9907.0], [Date.UTC(2017,4,12,0,0,0,0), 11951.0], [Date.UTC(2017,4,13,0,0,0,0), 11905.0], [Date.UTC(2017,4,14,0,0,0,0), 12174.0], [Date.UTC(2017,4,15,0,0,0,0), 15573.0], [Date.UTC(2017,4,16,0,0,0,0), 20171.0], [Date.UTC(2017,4,17,0,0,0,0), 21431.0], [Date.UTC(2017,4,18,0,0,0,0), 19319.0], [Date.UTC(2017,4,19,0,0,0,0), 16491.0], [Date.UTC(2017,4,20,0,0,0,0), 16867.0], [Date.UTC(2017,4,21,0,0,0,0), 16471.0], [Date.UTC(2017,4,22,0,0,0,0), 14629.0], [Date.UTC(2017,4,23,0,0,0,0), 13936.0], [Date.UTC(2017,4,24,0,0,0,0), 12109.0], [Date.UTC(2017,4,25,0,0,0,0), 10675.0], [Date.UTC(2017,4,26,0,0,0,0), 12341.0], [Date.UTC(2017,4,27,0,0,0,0), 10425.0], [Date.UTC(2017,4,28,0,0,0,0), 10648.0], [Date.UTC(2017,4,29,0,0,0,0), 10289.0], [Date.UTC(2017,4,30,0,0,0,0), 9438.0], [Date.UTC(2017,4,31,0,0,0,0), 10785.0], [Date.UTC(2017,5,1,0,0,0,0), 13857.0], [Date.UTC(2017,5,2,0,0,0,0), 12194.0], [Date.UTC(2017,5,3,0,0,0,0), 11711.0], [Date.UTC(2017,5,4,0,0,0,0), 11920.0], [Date.UTC(2017,5,5,0,0,0,0), 10942.0], [Date.UTC(2017,5,6,0,0,0,0), 9938.0], [Date.UTC(2017,5,7,0,0,0,0), 10240.0], [Date.UTC(2017,5,8,0,0,0,0), 10325.0], [Date.UTC(2017,5,9,0,0,0,0), 10129.0], [Date.UTC(2017,5,10,0,0,0,0), 8850.0], [Date.UTC(2017,5,11,0,0,0,0), 9221.0], [Date.UTC(2017,5,12,0,0,0,0), 9549.0], [Date.UTC(2017,5,13,0,0,0,0), 9796.0], [Date.UTC(2017,5,14,0,0,0,0), 11110.0], [Date.UTC(2017,5,15,0,0,0,0), 10520.0], [Date.UTC(2017,5,16,0,0,0,0), 10405.0], [Date.UTC(2017,5,17,0,0,0,0), 10104.0], [Date.UTC(2017,5,18,0,0,0,0), 11168.0], [Date.UTC(2017,5,19,0,0,0,0), 11433.0], [Date.UTC(2017,5,20,0,0,0,0), 11920.0], [Date.UTC(2017,5,21,0,0,0,0), 11021.0], [Date.UTC(2017,5,22,0,0,0,0), 11009.0], [Date.UTC(2017,5,23,0,0,0,0), 11657.0], [Date.UTC(2017,5,24,0,0,0,0), 11926.0], [Date.UTC(2017,5,25,0,0,0,0), 11525.0], [Date.UTC(2017,5,26,0,0,0,0), 11188.0], [Date.UTC(2017,5,27,0,0,0,0), 10825.0], [Date.UTC(2017,5,28,0,0,0,0), 10892.0], [Date.UTC(2017,5,29,0,0,0,0), 10452.0], [Date.UTC(2017,5,30,0,0,0,0), 10598.0], [Date.UTC(2017,6,1,0,0,0,0), 10464.0], [Date.UTC(2017,6,2,0,0,0,0), 10351.0], [Date.UTC(2017,6,3,0,0,0,0), 10139.0], [Date.UTC(2017,6,4,0,0,0,0), 9790.0], [Date.UTC(2017,6,5,0,0,0,0), 9859.0], [Date.UTC(2017,6,6,0,0,0,0), 9762.0], [Date.UTC(2017,6,7,0,0,0,0), 9508.0], [Date.UTC(2017,6,8,0,0,0,0), 9183.0], [Date.UTC(2017,6,9,0,0,0,0), 9268.0], [Date.UTC(2017,6,10,0,0,0,0), 8563.0], [Date.UTC(2017,6,11,0,0,0,0), 7914.0], [Date.UTC(2017,6,12,0,0,0,0), 8561.0], [Date.UTC(2017,6,13,0,0,0,0), 8516.0], [Date.UTC(2017,6,14,0,0,0,0), 8542.0], [Date.UTC(2017,6,15,0,0,0,0), 8534.0], [Date.UTC(2017,6,16,0,0,0,0), 7672.0], [Date.UTC(2017,6,17,0,0,0,0), 7983.0], [Date.UTC(2017,6,18,0,0,0,0), 8138.0], [Date.UTC(2017,6,19,0,0,0,0), 7407.0], [Date.UTC(2017,6,20,0,0,0,0), 6683.0], [Date.UTC(2017,6,21,0,0,0,0), 6845.0], [Date.UTC(2017,6,22,0,0,0,0), 6879.0], [Date.UTC(2017,6,23,0,0,0,0), 7144.0], [Date.UTC(2017,6,24,0,0,0,0), 6970.0], [Date.UTC(2017,6,25,0,0,0,0), 6913.0], [Date.UTC(2017,6,26,0,0,0,0), 6872.0], [Date.UTC(2017,6,27,0,0,0,0), 6492.0], [Date.UTC(2017,6,28,0,0,0,0), 5907.0], [Date.UTC(2017,6,29,0,0,0,0), 6230.0], [Date.UTC(2017,6,30,0,0,0,0), 5987.0], [Date.UTC(2017,6,31,0,0,0,0), 5821.0], [Date.UTC(2017,7,1,0,0,0,0), 6513.0], [Date.UTC(2017,7,2,0,0,0,0), 6386.0], [Date.UTC(2017,7,3,0,0,0,0), 6226.0], [Date.UTC(2017,7,4,0,0,0,0), 6000.0], [Date.UTC(2017,7,5,0,0,0,0), 5679.0], [Date.UTC(2017,7,6,0,0,0,0), 5614.0], [Date.UTC(2017,7,7,0,0,0,0), 5298.0], [Date.UTC(2017,7,8,0,0,0,0), 5631.0], [Date.UTC(2017,7,9,0,0,0,0), 5473.0], [Date.UTC(2017,7,10,0,0,0,0), 5335.0], [Date.UTC(2017,7,11,0,0,0,0), 4912.0], [Date.UTC(2017,7,12,0,0,0,0), 4475.0], [Date.UTC(2017,7,13,0,0,0,0), 4127.0], [Date.UTC(2017,7,14,0,0,0,0), 3930.0], [Date.UTC(2017,7,15,0,0,0,0), 3855.0], [Date.UTC(2017,7,16,0,0,0,0), 3666.0], [Date.UTC(2017,7,17,0,0,0,0), 3636.0], [Date.UTC(2017,7,18,0,0,0,0), 3819.0], [Date.UTC(2017,7,19,0,0,0,0), 3697.0], [Date.UTC(2017,7,20,0,0,0,0), 3883.0], [Date.UTC(2017,7,21,0,0,0,0), 4796.0], [Date.UTC(2017,7,22,0,0,0,0), 5836.0], [Date.UTC(2017,7,23,0,0,0,0), 5945.0], [Date.UTC(2017,7,24,0,0,0,0), 5051.0], [Date.UTC(2017,7,25,0,0,0,0), 4983.0], [Date.UTC(2017,7,26,0,0,0,0), 4884.0], [Date.UTC(2017,7,27,0,0,0,0), 4632.0], [Date.UTC(2017,7,28,0,0,0,0), 5123.0], [Date.UTC(2017,7,29,0,0,0,0), 4773.0], [Date.UTC(2017,7,30,0,0,0,0), 4994.0], [Date.UTC(2017,7,31,0,0,0,0), 5435.0], [Date.UTC(2017,8,1,0,0,0,0), 5079.0], [Date.UTC(2017,8,2,0,0,0,0), 4950.0], [Date.UTC(2017,8,3,0,0,0,0), 4993.0], [Date.UTC(2017,8,4,0,0,0,0), 4838.0], [Date.UTC(2017,8,5,0,0,0,0), 4917.0], [Date.UTC(2017,8,6,0,0,0,0), 4920.0], [Date.UTC(2017,8,7,0,0,0,0), 4862.0], [Date.UTC(2017,8,8,0,0,0,0), 5002.0], [Date.UTC(2017,8,9,0,0,0,0), 4969.0], [Date.UTC(2017,8,10,0,0,0,0), 5167.0], [Date.UTC(2017,8,11,0,0,0,0), 5153.0], [Date.UTC(2017,8,12,0,0,0,0), 5067.0], [Date.UTC(2017,8,13,0,0,0,0), 5171.0], [Date.UTC(2017,8,14,0,0,0,0), 5203.0], [Date.UTC(2017,8,15,0,0,0,0), 4986.0], [Date.UTC(2017,8,16,0,0,0,0), 4940.0], [Date.UTC(2017,8,17,0,0,0,0), 4979.0], [Date.UTC(2017,8,18,0,0,0,0), 4668.0], [Date.UTC(2017,8,19,0,0,0,0), 4689.0], [Date.UTC(2017,8,20,0,0,0,0), 4662.0], [Date.UTC(2017,8,21,0,0,0,0), 4730.0], [Date.UTC(2017,8,22,0,0,0,0), 4779.0], [Date.UTC(2017,8,23,0,0,0,0), 4690.0], [Date.UTC(2017,8,24,0,0,0,0), 4773.0], [Date.UTC(2017,8,25,0,0,0,0), 4623.0], [Date.UTC(2017,8,26,0,0,0,0), 4782.0], [Date.UTC(2017,8,27,0,0,0,0), 4840.0], [Date.UTC(2017,8,28,0,0,0,0), 4698.0], [Date.UTC(2017,8,29,0,0,0,0), 4651.0], [Date.UTC(2017,8,30,0,0,0,0), 4553.0], [Date.UTC(2017,9,1,0,0,0,0), 4690.0], [Date.UTC(2017,9,2,0,0,0,0), 4597.0], [Date.UTC(2017,9,3,0,0,0,0), 4709.0], [Date.UTC(2017,9,4,0,0,0,0), 5078.0], [Date.UTC(2017,9,5,0,0,0,0), 5476.0], [Date.UTC(2017,9,6,0,0,0,0), 5355.0], [Date.UTC(2017,9,7,0,0,0,0), 5390.0], [Date.UTC(2017,9,8,0,0,0,0), 6072.0], [Date.UTC(2017,9,9,0,0,0,0), 5277.0], [Date.UTC(2017,9,10,0,0,0,0), 5452.0], [Date.UTC(2017,9,11,0,0,0,0), 5479.0], [Date.UTC(2017,9,12,0,0,0,0), 4561.0], [Date.UTC(2017,9,13,0,0,0,0), 4613.0], [Date.UTC(2017,9,14,0,0,0,0), 4412.0], [Date.UTC(2017,9,15,0,0,0,0), 4649.0], [Date.UTC(2017,9,16,0,0,0,0), 4475.0], [Date.UTC(2017,9,17,0,0,0,0), 4140.0], [Date.UTC(2017,9,18,0,0,0,0), 3909.0], [Date.UTC(2017,9,19,0,0,0,0), 3769.0], [Date.UTC(2017,9,20,0,0,0,0), 3502.0], [Date.UTC(2017,9,21,0,0,0,0), 3499.0], [Date.UTC(2017,9,22,0,0,0,0), 3398.0], [Date.UTC(2017,9,23,0,0,0,0), 3321.0], [Date.UTC(2017,9,24,0,0,0,0), 3739.0], [Date.UTC(2017,9,25,0,0,0,0), 3558.0], [Date.UTC(2017,9,26,0,0,0,0), 3448.0], [Date.UTC(2017,9,27,0,0,0,0), 3508.0], [Date.UTC(2017,9,28,0,0,0,0), 3508.0], [Date.UTC(2017,9,29,0,0,0,0), 3295.0], [Date.UTC(2017,9,30,0,0,0,0), 3307.0], [Date.UTC(2017,9,31,0,0,0,0), 3101.0], [Date.UTC(2017,10,1,0,0,0,0), 2869.0], [Date.UTC(2017,10,2,0,0,0,0), 2908.0], [Date.UTC(2017,10,3,0,0,0,0), 2888.0], [Date.UTC(2017,10,4,0,0,0,0), 2761.0], [Date.UTC(2017,10,5,0,0,0,0), 2728.0], [Date.UTC(2017,10,6,0,0,0,0), 2933.0], [Date.UTC(2017,10,7,0,0,0,0), 2944.0], [Date.UTC(2017,10,8,0,0,0,0), 2915.0], [Date.UTC(2017,10,9,0,0,0,0), 3045.0], [Date.UTC(2017,10,10,0,0,0,0), 3120.0], [Date.UTC(2017,10,11,0,0,0,0), 3310.0]], &quot;id&quot;: &quot;dataseries&quot;}, {&quot;data&quot;: [{&quot;x&quot;: Date.UTC(2017,2,31,0,0,0,0), &quot;text&quot;: &quot;This rally will fail like the others&quot;, &quot;title&quot;: &quot;Disbelief&quot;}, {&quot;x&quot;: Date.UTC(2017,3,28,0,0,0,0), &quot;text&quot;: &quot;A recovery is possible&quot;, &quot;title&quot;: &quot;Hope&quot;}, {&quot;x&quot;: Date.UTC(2017,4,6,0,0,0,0), &quot;text&quot;: &quot;This rally is real&quot;, &quot;title&quot;: &quot;Optimism&quot;}, {&quot;x&quot;: Date.UTC(2017,4,8,0,0,0,0), &quot;text&quot;: &quot;Time to get fully invested&quot;, &quot;title&quot;: &quot;Belief&quot;}, {&quot;x&quot;: Date.UTC(2017,4,15,0,0,0,0), &quot;text&quot;: &quot;I will buy more on margin, Gotta tell everyone to buy&quot;, &quot;title&quot;: &quot;Thrill&quot;}, {&quot;x&quot;: Date.UTC(2017,4,17,0,0,0,0), &quot;text&quot;: &quot;I am a genious! We&#x27;re all going to be rich&quot;, &quot;title&quot;: &quot;Euphoria&quot;}, {&quot;x&quot;: Date.UTC(2017,5,3,0,0,0,0), &quot;text&quot;: &quot;We just need to cool off for the next rally&quot;, &quot;title&quot;: &quot;Complacency&quot;}, {&quot;x&quot;: Date.UTC(2017,6,3,0,0,0,0), &quot;text&quot;: &quot;Why am I getting margin calls? This dip is taing longer than expected&quot;, &quot;title&quot;: &quot;Anxiety&quot;}, {&quot;x&quot;: Date.UTC(2017,6,14,0,0,0,0), &quot;text&quot;: &quot;My investments are will great companies.They will come back&quot;, &quot;title&quot;: &quot;Denial&quot;}, {&quot;x&quot;: Date.UTC(2017,6,21,0,0,0,0), &quot;text&quot;: &quot;Shit! Everyone is selling. I need to get out!&quot;, &quot;title&quot;: &quot;Panic&quot;}, {&quot;x&quot;: Date.UTC(2017,7,5,0,0,0,0), &quot;text&quot;: &quot;I&#x27;m getting 100% out of the margets. I can&#x27;t afford to lose more&quot;, &quot;title&quot;: &quot;Capitulation&quot;}, {&quot;x&quot;: Date.UTC(2017,7,17,0,0,0,0), &quot;text&quot;: &quot;Who shorted the market?? Why did the government all this to happen??&quot;, &quot;title&quot;: &quot;Anger&quot;}, {&quot;x&quot;: Date.UTC(2017,10,1,0,0,0,0), &quot;text&quot;: &quot;My retirement is lost. How can we pay for all this new stuff? I am an idiot.&quot;, &quot;title&quot;: &quot;Depression&quot;}], &quot;onSeries&quot;: &quot;dataseries&quot;, &quot;type&quot;: &quot;flags&quot;, &quot;name&quot;: &quot;Series 2&quot;}]; option.series = data; var chart = new Highcharts.StockChart(option); }); &lt;/script&gt; &lt;/body&gt; &lt;/html&gt;\" height=650 width=820></iframe>"
      ],
      "text/plain": [
       "<highcharts.highstock.highstock.Highstock at 0x9c52400>"
      ]
     },
     "execution_count": 54,
     "metadata": {},
     "output_type": "execute_result"
    }
   ],
   "source": [
    "H = Highstock()\n",
    "H.add_data_set(price_data, 'line', 'Price (Sats)', id = 'dataseries')\n",
    "\n",
    "options = {\n",
    "    'chart' : {\n",
    "        'height' : 650\n",
    "    },\n",
    "\n",
    "    'title' : {\n",
    "        'text' : 'Psychology of Ripple (XRP) market cycle... How to get rekt'\n",
    "    },\n",
    "    'tooltip': {\n",
    "                'style': {\n",
    "                    'width': '200px'\n",
    "                },\n",
    "                'valueDecimals': 0,\n",
    "                'shared' : True\n",
    "            },\n",
    "\n",
    "    'yAxis' : {\n",
    "        'title' : {\n",
    "            'text' : \"Price  (BTC - Satoshi's)\"\n",
    "        }\n",
    "    },\n",
    "\n",
    "}\n",
    "\n",
    "H.set_dict_options(options)\n",
    "\n",
    "data2 = [{\n",
    "        'x' : datetime(2017, 3, 31),\n",
    "        'title' : 'Disbelief',\n",
    "        'text' : 'This rally will fail like the others'\n",
    "    }, {\n",
    "        'x' : datetime(2017, 4, 28),\n",
    "        'title' : 'Hope',\n",
    "        'text' : 'A recovery is possible'\n",
    "    }, {\n",
    "        'x' : datetime(2017, 5, 6),\n",
    "        'title' : 'Optimism',\n",
    "        'text' : 'This rally is real'\n",
    "    }, {\n",
    "        'x' : datetime(2017, 5, 8),\n",
    "        'title' : 'Belief',\n",
    "        'text' : 'Time to get fully invested'\n",
    "    }, {\n",
    "        'x' : datetime(2017, 5, 15),\n",
    "        'title' : 'Thrill',\n",
    "        'text' : 'I will buy more on margin, Gotta tell everyone to buy'\n",
    "    }, {\n",
    "        'x' : datetime(2017, 5, 17),\n",
    "        'title' : 'Euphoria',\n",
    "        'text' : 'I am a genious! We\\'re all going to be rich'\n",
    "    },{\n",
    "        'x' : datetime(2017, 6, 3),\n",
    "        'title' : 'Complacency',\n",
    "        'text' : 'We just need to cool off for the next rally'\n",
    "    }, {\n",
    "        'x' : datetime(2017, 7, 3),\n",
    "        'title' : 'Anxiety',\n",
    "        'text' : 'Why am I getting margin calls? This dip is taing longer than expected'\n",
    "    }, {\n",
    "        'x' : datetime(2017, 7, 14),\n",
    "        'title' : 'Denial',\n",
    "        'text' : 'My investments are will great companies.They will come back'\n",
    "    }, {\n",
    "        'x' : datetime(2017, 7, 21),\n",
    "        'title' : 'Panic',\n",
    "        'text' : 'Shit! Everyone is selling. I need to get out!'\n",
    "    }, {\n",
    "        'x' : datetime(2017, 8, 5),\n",
    "        'title' : 'Capitulation',\n",
    "        'text' : 'I\\'m getting 100% out of the margets. I can\\'t afford to lose more'\n",
    "    }, {\n",
    "        'x' : datetime(2017, 8, 17),\n",
    "        'title' : 'Anger',\n",
    "        'text' : 'Who shorted the market?? Why did the government all this to happen??'\n",
    "    },{\n",
    "        'x' : datetime(2017, 11, 1),\n",
    "        'title' : 'Depression',\n",
    "        'text' : 'My retirement is lost. How can we pay for all this new stuff? I am an idiot.'\n",
    "    }]\n",
    "\n",
    "\n",
    "H.add_data_set(data2, 'flags', onSeries = 'dataseries',\n",
    "                \n",
    "                width = 12)\n",
    "\n",
    "H"
   ]
  },
  {
   "cell_type": "code",
   "execution_count": null,
   "metadata": {
    "collapsed": true
   },
   "outputs": [],
   "source": []
  },
  {
   "cell_type": "code",
   "execution_count": null,
   "metadata": {
    "collapsed": true
   },
   "outputs": [],
   "source": []
  },
  {
   "cell_type": "code",
   "execution_count": null,
   "metadata": {
    "collapsed": true
   },
   "outputs": [],
   "source": []
  },
  {
   "cell_type": "code",
   "execution_count": null,
   "metadata": {
    "collapsed": true
   },
   "outputs": [],
   "source": []
  },
  {
   "cell_type": "code",
   "execution_count": null,
   "metadata": {
    "collapsed": true
   },
   "outputs": [],
   "source": []
  },
  {
   "cell_type": "code",
   "execution_count": null,
   "metadata": {
    "collapsed": true
   },
   "outputs": [],
   "source": []
  },
  {
   "cell_type": "code",
   "execution_count": null,
   "metadata": {
    "collapsed": true
   },
   "outputs": [],
   "source": []
  },
  {
   "cell_type": "code",
   "execution_count": null,
   "metadata": {
    "collapsed": true
   },
   "outputs": [],
   "source": []
  }
 ],
 "metadata": {
  "kernelspec": {
   "display_name": "Python 2",
   "language": "python",
   "name": "python2"
  },
  "language_info": {
   "codemirror_mode": {
    "name": "ipython",
    "version": 2
   },
   "file_extension": ".py",
   "mimetype": "text/x-python",
   "name": "python",
   "nbconvert_exporter": "python",
   "pygments_lexer": "ipython2",
   "version": "2.7.14"
  }
 },
 "nbformat": 4,
 "nbformat_minor": 1
}
